{
 "cells": [
  {
   "cell_type": "code",
   "execution_count": 1,
   "metadata": {},
   "outputs": [],
   "source": [
    "import pandas as pd"
   ]
  },
  {
   "cell_type": "code",
   "execution_count": null,
   "metadata": {},
   "outputs": [],
   "source": [
    "def data_reader(data_path, data_format, year_start, year_end):\n",
    "    temp = pd.read_csv(data_path, header = 0)\n",
    "\n",
    "    #Initialize a dictionary to store the data\n",
    "    data = 0\n",
    "\n",
    "    if data_fromat == 'data_default':\n",
    "        # Filter data for the specified years\n",
    "        idx = (temp.iloc[:,0] >= year_start) & (temp.iloc[:, 0] <=year_end)\n",
    "        filtered_data = temp[idx]\n",
    "\n",
    "        # Extract the required columns\n",
    "        data['years'] = filtered_data.iloc[:,0]\n",
    "        data['firms'] = filtered_data.iloc[:,1]\n",
    "        data['paaers'] = filtered_data.iloc[:,2]\n",
    "        data['labels'] = filtered_data.iloc[:, 3]\n",
    "        data['features'] = filtered_data.iloc[:,4:32]\n",
    "\n",
    "        data['num_observations'] = data['features'].shape[0]\n",
    "        data['num_features'] = data['features'].shape[1]\n",
    "\n",
    "    else:\n",
    "        print('Error: unspported data format!')\n",
    "\n",
    "    print(f'Data loaded: (data_path), (data[\"num_features\"]) features, (data[\"num_observations\"])observations.')\n",
    "\n",
    "    return data"
   ]
  },
  {
   "attachments": {},
   "cell_type": "markdown",
   "metadata": {},
   "source": []
  }
 ],
 "metadata": {
  "kernelspec": {
   "display_name": "practice",
   "language": "python",
   "name": "python3"
  },
  "language_info": {
   "codemirror_mode": {
    "name": "ipython",
    "version": 3
   },
   "file_extension": ".py",
   "mimetype": "text/x-python",
   "name": "python",
   "nbconvert_exporter": "python",
   "pygments_lexer": "ipython3",
   "version": "3.10.11"
  },
  "orig_nbformat": 4
 },
 "nbformat": 4,
 "nbformat_minor": 2
}
